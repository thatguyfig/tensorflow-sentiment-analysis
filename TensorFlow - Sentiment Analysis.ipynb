{
 "cells": [
  {
   "cell_type": "code",
   "execution_count": 3,
   "metadata": {},
   "outputs": [
    {
     "name": "stdout",
     "output_type": "stream",
     "text": [
      "WARNING:tensorflow:\n",
      "\n",
      "  TensorFlow's `tf-nightly` package will soon be updated to TensorFlow 2.0.\n",
      "\n",
      "  Please upgrade your code to TensorFlow 2.0:\n",
      "    * https://www.tensorflow.org/beta/guide/migration_guide\n",
      "\n",
      "  Or install the latest stable TensorFlow 1.X release:\n",
      "    * `pip install -U \"tensorflow==1.*\"`\n",
      "\n",
      "  Otherwise your code may be broken by the change.\n",
      "\n",
      "  \n",
      "1.15.0-dev20190821\n"
     ]
    }
   ],
   "source": [
    "from __future__ import absolute_import, division, print_function, unicode_literals\n",
    "\n",
    "import tensorflow as tf\n",
    "from tensorflow import keras\n",
    "\n",
    "import numpy as np\n",
    "\n",
    "print(tf.__version__)"
   ]
  },
  {
   "cell_type": "code",
   "execution_count": 4,
   "metadata": {},
   "outputs": [
    {
     "name": "stdout",
     "output_type": "stream",
     "text": [
      "Downloading data from https://storage.googleapis.com/tensorflow/tf-keras-datasets/imdb.npz\n",
      "17465344/17464789 [==============================] - 0s 0us/step\n"
     ]
    }
   ],
   "source": [
    "# load data from IMDB\n",
    "imdb = keras.datasets.imdb\n",
    "\n",
    "# split data into train and testing sets\n",
    "(train_data, train_labels), (test_data, test_labels) = imdb.load_data(num_words=10000)"
   ]
  },
  {
   "cell_type": "code",
   "execution_count": 6,
   "metadata": {},
   "outputs": [
    {
     "name": "stdout",
     "output_type": "stream",
     "text": [
      "Training entries: 25000, labels: 25000\n"
     ]
    }
   ],
   "source": [
    "# log training entries and labels\n",
    "print(\"Training entries: {}, labels: {}\".format(len(train_data), len(train_labels)))"
   ]
  },
  {
   "cell_type": "code",
   "execution_count": 7,
   "metadata": {},
   "outputs": [
    {
     "name": "stdout",
     "output_type": "stream",
     "text": [
      "[1, 14, 22, 16, 43, 530, 973, 1622, 1385, 65, 458, 4468, 66, 3941, 4, 173, 36, 256, 5, 25, 100, 43, 838, 112, 50, 670, 2, 9, 35, 480, 284, 5, 150, 4, 172, 112, 167, 2, 336, 385, 39, 4, 172, 4536, 1111, 17, 546, 38, 13, 447, 4, 192, 50, 16, 6, 147, 2025, 19, 14, 22, 4, 1920, 4613, 469, 4, 22, 71, 87, 12, 16, 43, 530, 38, 76, 15, 13, 1247, 4, 22, 17, 515, 17, 12, 16, 626, 18, 2, 5, 62, 386, 12, 8, 316, 8, 106, 5, 4, 2223, 5244, 16, 480, 66, 3785, 33, 4, 130, 12, 16, 38, 619, 5, 25, 124, 51, 36, 135, 48, 25, 1415, 33, 6, 22, 12, 215, 28, 77, 52, 5, 14, 407, 16, 82, 2, 8, 4, 107, 117, 5952, 15, 256, 4, 2, 7, 3766, 5, 723, 36, 71, 43, 530, 476, 26, 400, 317, 46, 7, 4, 2, 1029, 13, 104, 88, 4, 381, 15, 297, 98, 32, 2071, 56, 26, 141, 6, 194, 7486, 18, 4, 226, 22, 21, 134, 476, 26, 480, 5, 144, 30, 5535, 18, 51, 36, 28, 224, 92, 25, 104, 4, 226, 65, 16, 38, 1334, 88, 12, 16, 283, 5, 16, 4472, 113, 103, 32, 15, 16, 5345, 19, 178, 32]\n"
     ]
    }
   ],
   "source": [
    "# see one review\n",
    "print(train_data[0])"
   ]
  },
  {
   "cell_type": "code",
   "execution_count": 8,
   "metadata": {},
   "outputs": [
    {
     "data": {
      "text/plain": [
       "(218, 189)"
      ]
     },
     "execution_count": 8,
     "metadata": {},
     "output_type": "execute_result"
    }
   ],
   "source": [
    "# each of the reviews have different lengths\n",
    "len(train_data[0]), len(train_data[1])"
   ]
  },
  {
   "cell_type": "code",
   "execution_count": 11,
   "metadata": {},
   "outputs": [],
   "source": [
    "# convert integers back to words\n",
    "\n",
    "# a dictionary apping words to an interger index\n",
    "word_index = imdb.get_word_index()\n",
    "\n",
    "# the first indices are reserved\n",
    "word_index = {k:(v+3) for k, v in word_index.items()}\n",
    "word_index[\"<PAD>\"] = 0\n",
    "word_index[\"<START>\"] = 1\n",
    "word_index[\"<UNK>\"] = 2 # unknown\n",
    "word_index[\"<UNUSED>\"] = 3\n",
    "\n",
    "reverse_word_index = dict([(value, key) for (key, value) in word_index.items()])\n",
    "\n",
    "def decode_review(text):\n",
    "    return ' '.join([reverse_word_index.get(i, '?') for i in text])"
   ]
  },
  {
   "cell_type": "code",
   "execution_count": 12,
   "metadata": {},
   "outputs": [
    {
     "data": {
      "text/plain": [
       "\"<START> this film was just brilliant casting location scenery story direction everyone's really suited the part they played and you could just imagine being there robert <UNK> is an amazing actor and now the same being director <UNK> father came from the same scottish island as myself so i loved the fact there was a real connection with this film the witty remarks throughout the film were great it was just brilliant so much that i bought the film as soon as it was released for <UNK> and would recommend it to everyone to watch and the fly fishing was amazing really cried at the end it was so sad and you know what they say if you cry at a film it must have been good and this definitely was also <UNK> to the two little boy's that played the <UNK> of norman and paul they were just brilliant children are often left out of the <UNK> list i think because the stars that play them all grown up are such a big profile for the whole film but these children are amazing and should be praised for what they have done don't you think the whole story was so lovely because it was true and was someone's life after all that was shared with us all\""
      ]
     },
     "execution_count": 12,
     "metadata": {},
     "output_type": "execute_result"
    }
   ],
   "source": [
    "# use the decode_review() to display the text for the review\n",
    "decode_review(train_data[0])"
   ]
  },
  {
   "cell_type": "code",
   "execution_count": 13,
   "metadata": {},
   "outputs": [],
   "source": [
    "# prepare the data\n",
    "train_data = keras.preprocessing.sequence.pad_sequences(\n",
    "    train_data,\n",
    "    value=word_index[\"<PAD>\"],\n",
    "    padding='post',\n",
    "    maxlen=256\n",
    ")\n",
    "\n",
    "test_data = keras.preprocessing.sequence.pad_sequences(\n",
    "    test_data, \n",
    "    value=word_index[\"<PAD>\"],\n",
    "    padding='post',\n",
    "    maxlen=256\n",
    ")"
   ]
  },
  {
   "cell_type": "code",
   "execution_count": 14,
   "metadata": {},
   "outputs": [
    {
     "data": {
      "text/plain": [
       "(256, 256)"
      ]
     },
     "execution_count": 14,
     "metadata": {},
     "output_type": "execute_result"
    }
   ],
   "source": [
    "# let's check the length of reviews now, they should all be standardised\n",
    "len(train_data[0]), len(train_data[1])"
   ]
  },
  {
   "cell_type": "code",
   "execution_count": 16,
   "metadata": {},
   "outputs": [
    {
     "name": "stdout",
     "output_type": "stream",
     "text": [
      "[   1   14   22   16   43  530  973 1622 1385   65  458 4468   66 3941\n",
      "    4  173   36  256    5   25  100   43  838  112   50  670    2    9\n",
      "   35  480  284    5  150    4  172  112  167    2  336  385   39    4\n",
      "  172 4536 1111   17  546   38   13  447    4  192   50   16    6  147\n",
      " 2025   19   14   22    4 1920 4613  469    4   22   71   87   12   16\n",
      "   43  530   38   76   15   13 1247    4   22   17  515   17   12   16\n",
      "  626   18    2    5   62  386   12    8  316    8  106    5    4 2223\n",
      " 5244   16  480   66 3785   33    4  130   12   16   38  619    5   25\n",
      "  124   51   36  135   48   25 1415   33    6   22   12  215   28   77\n",
      "   52    5   14  407   16   82    2    8    4  107  117 5952   15  256\n",
      "    4    2    7 3766    5  723   36   71   43  530  476   26  400  317\n",
      "   46    7    4    2 1029   13  104   88    4  381   15  297   98   32\n",
      " 2071   56   26  141    6  194 7486   18    4  226   22   21  134  476\n",
      "   26  480    5  144   30 5535   18   51   36   28  224   92   25  104\n",
      "    4  226   65   16   38 1334   88   12   16  283    5   16 4472  113\n",
      "  103   32   15   16 5345   19  178   32    0    0    0    0    0    0\n",
      "    0    0    0    0    0    0    0    0    0    0    0    0    0    0\n",
      "    0    0    0    0    0    0    0    0    0    0    0    0    0    0\n",
      "    0    0    0    0]\n"
     ]
    },
    {
     "data": {
      "text/plain": [
       "\"<START> this film was just brilliant casting location scenery story direction everyone's really suited the part they played and you could just imagine being there robert <UNK> is an amazing actor and now the same being director <UNK> father came from the same scottish island as myself so i loved the fact there was a real connection with this film the witty remarks throughout the film were great it was just brilliant so much that i bought the film as soon as it was released for <UNK> and would recommend it to everyone to watch and the fly fishing was amazing really cried at the end it was so sad and you know what they say if you cry at a film it must have been good and this definitely was also <UNK> to the two little boy's that played the <UNK> of norman and paul they were just brilliant children are often left out of the <UNK> list i think because the stars that play them all grown up are such a big profile for the whole film but these children are amazing and should be praised for what they have done don't you think the whole story was so lovely because it was true and was someone's life after all that was shared with us all <PAD> <PAD> <PAD> <PAD> <PAD> <PAD> <PAD> <PAD> <PAD> <PAD> <PAD> <PAD> <PAD> <PAD> <PAD> <PAD> <PAD> <PAD> <PAD> <PAD> <PAD> <PAD> <PAD> <PAD> <PAD> <PAD> <PAD> <PAD> <PAD> <PAD> <PAD> <PAD> <PAD> <PAD> <PAD> <PAD> <PAD> <PAD>\""
      ]
     },
     "execution_count": 16,
     "metadata": {},
     "output_type": "execute_result"
    }
   ],
   "source": [
    "# inspect the firsy review with padding\n",
    "print(train_data[0])\n",
    "\n",
    "decode_review(train_data[0])"
   ]
  },
  {
   "cell_type": "code",
   "execution_count": 20,
   "metadata": {},
   "outputs": [
    {
     "name": "stdout",
     "output_type": "stream",
     "text": [
      "Model: \"sequential_2\"\n",
      "_________________________________________________________________\n",
      "Layer (type)                 Output Shape              Param #   \n",
      "=================================================================\n",
      "embedding_2 (Embedding)      (None, None, 16)          160000    \n",
      "_________________________________________________________________\n",
      "global_average_pooling1d_1 ( (None, 16)                0         \n",
      "_________________________________________________________________\n",
      "dense_1 (Dense)              (None, 16)                272       \n",
      "_________________________________________________________________\n",
      "dense_2 (Dense)              (None, 1)                 17        \n",
      "=================================================================\n",
      "Total params: 160,289\n",
      "Trainable params: 160,289\n",
      "Non-trainable params: 0\n",
      "_________________________________________________________________\n"
     ]
    }
   ],
   "source": [
    "# build the model\n",
    "\n",
    "# input shape is the vocab count used for the movie reviews (10,000 words)\n",
    "vocab_size = 10000\n",
    "\n",
    "model = keras.Sequential()\n",
    "model.add(keras.layers.Embedding(vocab_size, 16))\n",
    "model.add(keras.layers.GlobalAveragePooling1D())\n",
    "model.add(keras.layers.Dense(16, activation=tf.nn.relu))\n",
    "model.add(keras.layers.Dense(1, activation=tf.nn.sigmoid))\n",
    "\n",
    "model.summary()"
   ]
  },
  {
   "cell_type": "code",
   "execution_count": 21,
   "metadata": {},
   "outputs": [
    {
     "name": "stdout",
     "output_type": "stream",
     "text": [
      "WARNING:tensorflow:From C:\\Users\\tom.thornton\\AppData\\Local\\Continuum\\anaconda3\\envs\\py36\\lib\\site-packages\\tensorflow_core\\python\\ops\\nn_impl.py:183: where (from tensorflow.python.ops.array_ops) is deprecated and will be removed in a future version.\n",
      "Instructions for updating:\n",
      "Use tf.where in 2.0, which has the same broadcast rule as np.where\n"
     ]
    }
   ],
   "source": [
    "# loss function and optimiser\n",
    "model.compile(\n",
    "    optimizer='adam',\n",
    "    loss='binary_crossentropy',\n",
    "    metrics=['acc']\n",
    ")"
   ]
  },
  {
   "cell_type": "code",
   "execution_count": 22,
   "metadata": {},
   "outputs": [],
   "source": [
    "# create the validation set\n",
    "x_val = train_data[:10000]\n",
    "partial_x_train = train_data[10000:]\n",
    "\n",
    "y_val = train_labels[:10000]\n",
    "partial_y_train = train_labels[10000:]"
   ]
  },
  {
   "cell_type": "code",
   "execution_count": 23,
   "metadata": {
    "scrolled": true
   },
   "outputs": [
    {
     "name": "stdout",
     "output_type": "stream",
     "text": [
      "Train on 15000 samples, validate on 10000 samples\n",
      "Epoch 1/40\n",
      "15000/15000 [==============================] - 1s 66us/sample - loss: 0.6916 - acc: 0.6124 - val_loss: 0.6894 - val_acc: 0.7044\n",
      "Epoch 2/40\n",
      "15000/15000 [==============================] - 1s 58us/sample - loss: 0.6855 - acc: 0.7483 - val_loss: 0.6814 - val_acc: 0.7502\n",
      "Epoch 3/40\n",
      "15000/15000 [==============================] - 1s 58us/sample - loss: 0.6731 - acc: 0.7638 - val_loss: 0.6657 - val_acc: 0.7599\n",
      "Epoch 4/40\n",
      "15000/15000 [==============================] - 1s 59us/sample - loss: 0.6515 - acc: 0.7684 - val_loss: 0.6410 - val_acc: 0.7539\n",
      "Epoch 5/40\n",
      "15000/15000 [==============================] - 1s 59us/sample - loss: 0.6195 - acc: 0.7936 - val_loss: 0.6072 - val_acc: 0.7818\n",
      "Epoch 6/40\n",
      "15000/15000 [==============================] - 1s 64us/sample - loss: 0.5785 - acc: 0.8123 - val_loss: 0.5671 - val_acc: 0.8034\n",
      "Epoch 7/40\n",
      "15000/15000 [==============================] - 1s 65us/sample - loss: 0.5317 - acc: 0.8282 - val_loss: 0.5230 - val_acc: 0.8191\n",
      "Epoch 8/40\n",
      "15000/15000 [==============================] - 1s 65us/sample - loss: 0.4844 - acc: 0.8449 - val_loss: 0.4818 - val_acc: 0.8323\n",
      "Epoch 9/40\n",
      "15000/15000 [==============================] - 1s 62us/sample - loss: 0.4401 - acc: 0.8609 - val_loss: 0.4445 - val_acc: 0.8429\n",
      "Epoch 10/40\n",
      "15000/15000 [==============================] - 1s 60us/sample - loss: 0.4007 - acc: 0.8727 - val_loss: 0.4135 - val_acc: 0.8498\n",
      "Epoch 11/40\n",
      "15000/15000 [==============================] - 1s 57us/sample - loss: 0.3672 - acc: 0.8811 - val_loss: 0.3878 - val_acc: 0.8591\n",
      "Epoch 12/40\n",
      "15000/15000 [==============================] - 1s 60us/sample - loss: 0.3389 - acc: 0.8887 - val_loss: 0.3677 - val_acc: 0.8616\n",
      "Epoch 13/40\n",
      "15000/15000 [==============================] - 1s 59us/sample - loss: 0.3158 - acc: 0.8946 - val_loss: 0.3504 - val_acc: 0.8688\n",
      "Epoch 14/40\n",
      "15000/15000 [==============================] - 1s 57us/sample - loss: 0.2950 - acc: 0.9002 - val_loss: 0.3375 - val_acc: 0.8714\n",
      "Epoch 15/40\n",
      "15000/15000 [==============================] - 1s 59us/sample - loss: 0.2777 - acc: 0.9047 - val_loss: 0.3271 - val_acc: 0.8729\n",
      "Epoch 16/40\n",
      "15000/15000 [==============================] - 1s 58us/sample - loss: 0.2621 - acc: 0.9102 - val_loss: 0.3183 - val_acc: 0.8755\n",
      "Epoch 17/40\n",
      "15000/15000 [==============================] - 1s 59us/sample - loss: 0.2477 - acc: 0.9147 - val_loss: 0.3109 - val_acc: 0.8775\n",
      "Epoch 18/40\n",
      "15000/15000 [==============================] - 1s 58us/sample - loss: 0.2351 - acc: 0.9197 - val_loss: 0.3048 - val_acc: 0.8804\n",
      "Epoch 19/40\n",
      "15000/15000 [==============================] - 1s 59us/sample - loss: 0.2237 - acc: 0.9224 - val_loss: 0.2994 - val_acc: 0.8815\n",
      "Epoch 20/40\n",
      "15000/15000 [==============================] - 1s 57us/sample - loss: 0.2135 - acc: 0.9259 - val_loss: 0.2957 - val_acc: 0.8820\n",
      "Epoch 21/40\n",
      "15000/15000 [==============================] - 1s 58us/sample - loss: 0.2030 - acc: 0.9313 - val_loss: 0.2924 - val_acc: 0.8829\n",
      "Epoch 22/40\n",
      "15000/15000 [==============================] - 1s 59us/sample - loss: 0.1943 - acc: 0.9345 - val_loss: 0.2902 - val_acc: 0.8836\n",
      "Epoch 23/40\n",
      "15000/15000 [==============================] - 1s 58us/sample - loss: 0.1855 - acc: 0.9389 - val_loss: 0.2888 - val_acc: 0.8827\n",
      "Epoch 24/40\n",
      "15000/15000 [==============================] - 1s 59us/sample - loss: 0.1780 - acc: 0.9418 - val_loss: 0.2867 - val_acc: 0.8845\n",
      "Epoch 25/40\n",
      "15000/15000 [==============================] - 1s 58us/sample - loss: 0.1702 - acc: 0.9461 - val_loss: 0.2856 - val_acc: 0.8845\n",
      "Epoch 26/40\n",
      "15000/15000 [==============================] - 1s 59us/sample - loss: 0.1632 - acc: 0.9484 - val_loss: 0.2859 - val_acc: 0.8838\n",
      "Epoch 27/40\n",
      "15000/15000 [==============================] - 1s 58us/sample - loss: 0.1567 - acc: 0.9511 - val_loss: 0.2854 - val_acc: 0.8846\n",
      "Epoch 28/40\n",
      "15000/15000 [==============================] - 1s 59us/sample - loss: 0.1504 - acc: 0.9541 - val_loss: 0.2854 - val_acc: 0.8849\n",
      "Epoch 29/40\n",
      "15000/15000 [==============================] - 1s 57us/sample - loss: 0.1450 - acc: 0.9560 - val_loss: 0.2877 - val_acc: 0.8832\n",
      "Epoch 30/40\n",
      "15000/15000 [==============================] - 1s 59us/sample - loss: 0.1393 - acc: 0.9582 - val_loss: 0.2866 - val_acc: 0.8859\n",
      "Epoch 31/40\n",
      "15000/15000 [==============================] - 1s 60us/sample - loss: 0.1335 - acc: 0.9604 - val_loss: 0.2878 - val_acc: 0.8865\n",
      "Epoch 32/40\n",
      "15000/15000 [==============================] - 1s 67us/sample - loss: 0.1283 - acc: 0.9633 - val_loss: 0.2893 - val_acc: 0.8861\n",
      "Epoch 33/40\n",
      "15000/15000 [==============================] - 1s 58us/sample - loss: 0.1233 - acc: 0.9651 - val_loss: 0.2916 - val_acc: 0.8842\n",
      "Epoch 34/40\n",
      "15000/15000 [==============================] - 1s 60us/sample - loss: 0.1189 - acc: 0.9663 - val_loss: 0.2932 - val_acc: 0.8865\n",
      "Epoch 35/40\n",
      "15000/15000 [==============================] - 1s 60us/sample - loss: 0.1147 - acc: 0.9672 - val_loss: 0.2965 - val_acc: 0.8852\n",
      "Epoch 36/40\n",
      "15000/15000 [==============================] - 1s 59us/sample - loss: 0.1103 - acc: 0.9698 - val_loss: 0.2980 - val_acc: 0.8846\n",
      "Epoch 37/40\n",
      "15000/15000 [==============================] - 1s 59us/sample - loss: 0.1060 - acc: 0.9709 - val_loss: 0.3003 - val_acc: 0.8842\n",
      "Epoch 38/40\n",
      "15000/15000 [==============================] - 1s 58us/sample - loss: 0.1021 - acc: 0.9726 - val_loss: 0.3038 - val_acc: 0.8830\n",
      "Epoch 39/40\n",
      "15000/15000 [==============================] - 1s 60us/sample - loss: 0.0989 - acc: 0.9737 - val_loss: 0.3071 - val_acc: 0.8826\n",
      "Epoch 40/40\n",
      "15000/15000 [==============================] - 1s 59us/sample - loss: 0.0949 - acc: 0.9757 - val_loss: 0.3091 - val_acc: 0.8829\n"
     ]
    }
   ],
   "source": [
    "# train the model\n",
    "history = model.fit(\n",
    "    partial_x_train,\n",
    "    partial_y_train,\n",
    "    epochs=40,\n",
    "    batch_size=512,\n",
    "    validation_data=(x_val, y_val),\n",
    "    verbose=1\n",
    ")"
   ]
  },
  {
   "cell_type": "code",
   "execution_count": 24,
   "metadata": {},
   "outputs": [
    {
     "name": "stdout",
     "output_type": "stream",
     "text": [
      "25000/25000 [==============================] - 0s 20us/sample - loss: 0.3298 - acc: 0.8725\n",
      "[0.32975542140483854, 0.87248]\n"
     ]
    }
   ],
   "source": [
    "# evaluate the model\n",
    "results = model.evaluate(test_data, test_labels)\n",
    "print(results)"
   ]
  },
  {
   "cell_type": "code",
   "execution_count": 25,
   "metadata": {},
   "outputs": [
    {
     "data": {
      "text/plain": [
       "dict_keys(['loss', 'acc', 'val_loss', 'val_acc'])"
      ]
     },
     "execution_count": 25,
     "metadata": {},
     "output_type": "execute_result"
    }
   ],
   "source": [
    "# graph accuracy and loss over time\n",
    "history_dict = history.history\n",
    "history_dict.keys()"
   ]
  },
  {
   "cell_type": "code",
   "execution_count": 28,
   "metadata": {},
   "outputs": [
    {
     "data": {
      "text/plain": [
       "<Figure size 640x480 with 1 Axes>"
      ]
     },
     "metadata": {},
     "output_type": "display_data"
    }
   ],
   "source": [
    "import matplotlib.pyplot as plt\n",
    "\n",
    "acc = history_dict['acc']\n",
    "val_acc = history_dict['val_acc']\n",
    "\n",
    "loss = history_dict['loss']\n",
    "val_loss = history_dict['val_loss']\n",
    "\n",
    "epochs = range(1, len(acc) + 1)\n",
    "\n",
    "# bo is for blue dot\n",
    "plt.plot(epochs, loss, 'bo', label='Training loss')\n",
    "\n",
    "# b is for solid blue line\n",
    "plt.plot(epochs, val_loss, 'b', label='Validation Loss')\n",
    "\n",
    "plt.title('Training and validation loss')\n",
    "plt.xlabel('Epochs')\n",
    "plt.ylabel('Loss')\n",
    "plt.legend()\n",
    "\n",
    "plt.show()"
   ]
  },
  {
   "cell_type": "code",
   "execution_count": 29,
   "metadata": {},
   "outputs": [
    {
     "data": {
      "image/png": "[encoded data removed]",
      "text/plain": [
       "<Figure size 432x288 with 1 Axes>"
      ]
     },
     "metadata": {
      "needs_background": "light"
     },
     "output_type": "display_data"
    }
   ],
   "source": [
    "plt.clf() # clear figure\n",
    "\n",
    "plt.plot(epochs, acc, 'bo', label='Training acc')\n",
    "plt.plot(epochs, val_acc, 'b', label='Validationa acc')\n",
    "plt.title('Training and validation accuracy')\n",
    "plt.xlabel('Epochs')\n",
    "plt.ylabel('Accuracy')\n",
    "plt.legend()\n",
    "\n",
    "plt.show()"
   ]
  },
  {
   "cell_type": "code",
   "execution_count": null,
   "metadata": {},
   "outputs": [],
   "source": []
  }
 ],
 "metadata": {
  "kernelspec": {
   "display_name": "Python 3",
   "language": "python",
   "name": "python3"
  },
  "language_info": {
   "codemirror_mode": {
    "name": "ipython",
    "version": 3
   },
   "file_extension": ".py",
   "mimetype": "text/x-python",
   "name": "python",
   "nbconvert_exporter": "python",
   "pygments_lexer": "ipython3",
   "version": "3.6.8"
  }
 },
 "nbformat": 4,
 "nbformat_minor": 2
}
